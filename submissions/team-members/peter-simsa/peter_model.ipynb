{
 "cells": [
  {
   "cell_type": "markdown",
   "id": "77561a77-695b-41ed-97ae-0335e5de6fc5",
   "metadata": {},
   "source": [
    "### SDS Kaggle salary estimation project - 2025\n",
    " \n",
    "source: https://www.kaggle.com/datasets/chopper53/machine-learning-engineer-salary-in-2024/data"
   ]
  },
  {
   "cell_type": "markdown",
   "id": "447579d7-e6c7-46c3-a149-d7e12853fbdf",
   "metadata": {},
   "source": [
    "<a href='#lin'>Linear regression</a> target log transdormed, standardised  \n",
    "<a href='#xgb'>XGBoost regression</a> with transformed and scaled target  \n",
    "<a href='#std'>Linear regression</a>, target only standard scaled, no transformation  \n",
    "<a href='#rob'>Linear regression</a> with RobustScaler on untransformed data  \n",
    "<a href='#rand'>Random forest</a> with log transformed and scaled target\n",
    "\n",
    "All model performed on the same poor level without optimisation (R2 ~ 0.2 on $value, mea ~ 46k/y).  \n",
    "Using untransformed, scaled target reduced R2 (0.08) with both Standard or Robust scaling.\n",
    "\n",
    "Prediced data follows below average inclanation but fails with upper band outlayers.  \n",
    "Limiting outlayers improves performance statistics but may not improve individual precision. (test needed)"
   ]
  },
  {
   "cell_type": "code",
   "execution_count": 1,
   "id": "a9828887-060c-401d-8508-6c6157a46f5e",
   "metadata": {},
   "outputs": [],
   "source": [
    "import pandas as pd\n",
    "import numpy as np\n",
    "from sklearn.pipeline import Pipeline\n",
    "from sklearn.decomposition import PCA\n",
    "from sklearn.model_selection import GridSearchCV, train_test_split\n",
    "from sklearn.preprocessing import StandardScaler, OneHotEncoder,LabelEncoder, RobustScaler\n",
    "from sklearn.linear_model import LinearRegression\n",
    "from sklearn.metrics import mean_absolute_error, mean_squared_error,r2_score\n",
    "\n",
    "import matplotlib.pyplot as plt\n",
    "import seaborn as sns"
   ]
  },
  {
   "cell_type": "code",
   "execution_count": 2,
   "id": "202f8bc1-caa4-4491-9782-c9618ebde66b",
   "metadata": {},
   "outputs": [
    {
     "data": {
      "text/html": [
       "<div>\n",
       "<style scoped>\n",
       "    .dataframe tbody tr th:only-of-type {\n",
       "        vertical-align: middle;\n",
       "    }\n",
       "\n",
       "    .dataframe tbody tr th {\n",
       "        vertical-align: top;\n",
       "    }\n",
       "\n",
       "    .dataframe thead th {\n",
       "        text-align: right;\n",
       "    }\n",
       "</style>\n",
       "<table border=\"1\" class=\"dataframe\">\n",
       "  <thead>\n",
       "    <tr style=\"text-align: right;\">\n",
       "      <th></th>\n",
       "      <th>experience_level</th>\n",
       "      <th>employment_type</th>\n",
       "      <th>job_title</th>\n",
       "      <th>employee_residence</th>\n",
       "      <th>remote_ratio</th>\n",
       "      <th>company_location</th>\n",
       "      <th>company_size</th>\n",
       "      <th>salary_in_usd</th>\n",
       "    </tr>\n",
       "  </thead>\n",
       "  <tbody>\n",
       "    <tr>\n",
       "      <th>0</th>\n",
       "      <td>MI</td>\n",
       "      <td>FT</td>\n",
       "      <td>9</td>\n",
       "      <td>3</td>\n",
       "      <td>0</td>\n",
       "      <td>0</td>\n",
       "      <td>S</td>\n",
       "      <td>11.695247</td>\n",
       "    </tr>\n",
       "    <tr>\n",
       "      <th>1</th>\n",
       "      <td>MI</td>\n",
       "      <td>FT</td>\n",
       "      <td>9</td>\n",
       "      <td>3</td>\n",
       "      <td>0</td>\n",
       "      <td>0</td>\n",
       "      <td>S</td>\n",
       "      <td>11.156251</td>\n",
       "    </tr>\n",
       "    <tr>\n",
       "      <th>2</th>\n",
       "      <td>MI</td>\n",
       "      <td>CT</td>\n",
       "      <td>9</td>\n",
       "      <td>1</td>\n",
       "      <td>0</td>\n",
       "      <td>4</td>\n",
       "      <td>M</td>\n",
       "      <td>11.775290</td>\n",
       "    </tr>\n",
       "  </tbody>\n",
       "</table>\n",
       "</div>"
      ],
      "text/plain": [
       "  experience_level employment_type  job_title  employee_residence  \\\n",
       "0               MI              FT          9                   3   \n",
       "1               MI              FT          9                   3   \n",
       "2               MI              CT          9                   1   \n",
       "\n",
       "   remote_ratio  company_location company_size  salary_in_usd  \n",
       "0             0                 0            S      11.695247  \n",
       "1             0                 0            S      11.156251  \n",
       "2             0                 4            M      11.775290  "
      ]
     },
     "execution_count": 2,
     "metadata": {},
     "output_type": "execute_result"
    }
   ],
   "source": [
    "df = pd.read_csv('salary_trans.csv')\n",
    "df.head(3)"
   ]
  },
  {
   "cell_type": "code",
   "execution_count": 3,
   "id": "bace6ddf-9e1e-4f06-996d-f25b486ea195",
   "metadata": {},
   "outputs": [
    {
     "data": {
      "text/plain": [
       "experience_level       object\n",
       "employment_type        object\n",
       "job_title               int64\n",
       "employee_residence      int64\n",
       "remote_ratio            int64\n",
       "company_location        int64\n",
       "company_size           object\n",
       "salary_in_usd         float64\n",
       "dtype: object"
      ]
     },
     "execution_count": 3,
     "metadata": {},
     "output_type": "execute_result"
    }
   ],
   "source": [
    "df.dtypes"
   ]
  },
  {
   "cell_type": "code",
   "execution_count": 3,
   "id": "a91ab760-e660-4bca-8acb-084104020957",
   "metadata": {},
   "outputs": [],
   "source": [
    "for c in df.select_dtypes('int64').columns:\n",
    "    df[c] = df[c].astype('object')"
   ]
  },
  {
   "cell_type": "markdown",
   "id": "39bf5871-4776-49e0-833a-8ad97f2cab6d",
   "metadata": {},
   "source": [
    "<span id='lin'></span>\n",
    "### Linear regression target log transdormed, standardised"
   ]
  },
  {
   "cell_type": "code",
   "execution_count": 4,
   "id": "7353009b-abf4-44ec-a024-8c9c1569b4d1",
   "metadata": {},
   "outputs": [],
   "source": [
    "y = df.pop('salary_in_usd')\n",
    "x = df.copy()"
   ]
  },
  {
   "cell_type": "code",
   "execution_count": 5,
   "id": "53deb4e7-a23c-4517-9729-eb6378093996",
   "metadata": {},
   "outputs": [
    {
     "data": {
      "text/plain": [
       "((9801, 7), (9801,))"
      ]
     },
     "execution_count": 5,
     "metadata": {},
     "output_type": "execute_result"
    }
   ],
   "source": [
    "x.shape,y.shape"
   ]
  },
  {
   "cell_type": "code",
   "execution_count": 6,
   "id": "bd51d4dd-1771-4704-a31d-1a0a8b518c8b",
   "metadata": {},
   "outputs": [],
   "source": [
    "std_y = StandardScaler()"
   ]
  },
  {
   "cell_type": "code",
   "execution_count": 106,
   "id": "f3d0f8fa-0768-4303-ba82-8633d094e405",
   "metadata": {},
   "outputs": [],
   "source": [
    "x_train, x_test, y_train, y_test = train_test_split(x,y, test_size=.3, stratify=x.experience_level, random_state=42)\n",
    "x_test, x_val, y_test, y_val = train_test_split(x_test,y_test, test_size=.5, stratify=x_test.experience_level, random_state=69)"
   ]
  },
  {
   "cell_type": "code",
   "execution_count": 107,
   "id": "8ce9c6f2-1218-4c8b-b7f0-1189e8b0e95e",
   "metadata": {},
   "outputs": [
    {
     "data": {
      "text/plain": [
       "((6860, 7), (6860,), (1470, 7), (1471, 7))"
      ]
     },
     "execution_count": 107,
     "metadata": {},
     "output_type": "execute_result"
    }
   ],
   "source": [
    "x_train.shape,y_train.shape,x_test.shape,x_val.shape"
   ]
  },
  {
   "cell_type": "code",
   "execution_count": 108,
   "id": "e3ece603-429b-4362-8829-ae4f27295d80",
   "metadata": {},
   "outputs": [],
   "source": [
    "std_y = std_y.fit(np.array(y_train).reshape(-1,1))\n",
    "y_trainT = std_y.transform(np.array(y_train).reshape(-1,1))\n",
    "y_testT = std_y.transform(np.array(y_test).reshape(-1,1))\n",
    "y_valT = std_y.transform(np.array(y_val).reshape(-1,1))"
   ]
  },
  {
   "cell_type": "code",
   "execution_count": null,
   "id": "fd4a45a1-ff1e-4e69-a9aa-0b821050d32f",
   "metadata": {},
   "outputs": [],
   "source": [
    "for c in x.columns:\n",
    "    temp = pd.DataFrame(x[c].value_counts(normalize=True)).join(x_train[c].value_counts(normalize=True), rsuffix='_train')\n",
    "    display(temp.join(x_val[c].value_counts(normalize=True), rsuffix='_validation'))"
   ]
  },
  {
   "cell_type": "code",
   "execution_count": 115,
   "id": "63270972-cfa3-46dd-81a6-94d030c6a0b8",
   "metadata": {},
   "outputs": [],
   "source": [
    "lin_pipe = Pipeline([('hot', OneHotEncoder(sparse_output=False)),\n",
    "                   #('pca', PCA()),\n",
    "                     ('linreg', LinearRegression())], verbose=True) "
   ]
  },
  {
   "cell_type": "code",
   "execution_count": 116,
   "id": "0f53762d-2171-45f9-944e-a379f6259ef5",
   "metadata": {},
   "outputs": [
    {
     "name": "stdout",
     "output_type": "stream",
     "text": [
      "[Pipeline] ............... (step 1 of 2) Processing hot, total=   0.0s\n",
      "[Pipeline] ............ (step 2 of 2) Processing linreg, total=   0.0s\n"
     ]
    },
    {
     "data": {
      "text/html": [
       "<style>#sk-container-id-4 {color: black;}#sk-container-id-4 pre{padding: 0;}#sk-container-id-4 div.sk-toggleable {background-color: white;}#sk-container-id-4 label.sk-toggleable__label {cursor: pointer;display: block;width: 100%;margin-bottom: 0;padding: 0.3em;box-sizing: border-box;text-align: center;}#sk-container-id-4 label.sk-toggleable__label-arrow:before {content: \"▸\";float: left;margin-right: 0.25em;color: #696969;}#sk-container-id-4 label.sk-toggleable__label-arrow:hover:before {color: black;}#sk-container-id-4 div.sk-estimator:hover label.sk-toggleable__label-arrow:before {color: black;}#sk-container-id-4 div.sk-toggleable__content {max-height: 0;max-width: 0;overflow: hidden;text-align: left;background-color: #f0f8ff;}#sk-container-id-4 div.sk-toggleable__content pre {margin: 0.2em;color: black;border-radius: 0.25em;background-color: #f0f8ff;}#sk-container-id-4 input.sk-toggleable__control:checked~div.sk-toggleable__content {max-height: 200px;max-width: 100%;overflow: auto;}#sk-container-id-4 input.sk-toggleable__control:checked~label.sk-toggleable__label-arrow:before {content: \"▾\";}#sk-container-id-4 div.sk-estimator input.sk-toggleable__control:checked~label.sk-toggleable__label {background-color: #d4ebff;}#sk-container-id-4 div.sk-label input.sk-toggleable__control:checked~label.sk-toggleable__label {background-color: #d4ebff;}#sk-container-id-4 input.sk-hidden--visually {border: 0;clip: rect(1px 1px 1px 1px);clip: rect(1px, 1px, 1px, 1px);height: 1px;margin: -1px;overflow: hidden;padding: 0;position: absolute;width: 1px;}#sk-container-id-4 div.sk-estimator {font-family: monospace;background-color: #f0f8ff;border: 1px dotted black;border-radius: 0.25em;box-sizing: border-box;margin-bottom: 0.5em;}#sk-container-id-4 div.sk-estimator:hover {background-color: #d4ebff;}#sk-container-id-4 div.sk-parallel-item::after {content: \"\";width: 100%;border-bottom: 1px solid gray;flex-grow: 1;}#sk-container-id-4 div.sk-label:hover label.sk-toggleable__label {background-color: #d4ebff;}#sk-container-id-4 div.sk-serial::before {content: \"\";position: absolute;border-left: 1px solid gray;box-sizing: border-box;top: 0;bottom: 0;left: 50%;z-index: 0;}#sk-container-id-4 div.sk-serial {display: flex;flex-direction: column;align-items: center;background-color: white;padding-right: 0.2em;padding-left: 0.2em;position: relative;}#sk-container-id-4 div.sk-item {position: relative;z-index: 1;}#sk-container-id-4 div.sk-parallel {display: flex;align-items: stretch;justify-content: center;background-color: white;position: relative;}#sk-container-id-4 div.sk-item::before, #sk-container-id-4 div.sk-parallel-item::before {content: \"\";position: absolute;border-left: 1px solid gray;box-sizing: border-box;top: 0;bottom: 0;left: 50%;z-index: -1;}#sk-container-id-4 div.sk-parallel-item {display: flex;flex-direction: column;z-index: 1;position: relative;background-color: white;}#sk-container-id-4 div.sk-parallel-item:first-child::after {align-self: flex-end;width: 50%;}#sk-container-id-4 div.sk-parallel-item:last-child::after {align-self: flex-start;width: 50%;}#sk-container-id-4 div.sk-parallel-item:only-child::after {width: 0;}#sk-container-id-4 div.sk-dashed-wrapped {border: 1px dashed gray;margin: 0 0.4em 0.5em 0.4em;box-sizing: border-box;padding-bottom: 0.4em;background-color: white;}#sk-container-id-4 div.sk-label label {font-family: monospace;font-weight: bold;display: inline-block;line-height: 1.2em;}#sk-container-id-4 div.sk-label-container {text-align: center;}#sk-container-id-4 div.sk-container {/* jupyter's `normalize.less` sets `[hidden] { display: none; }` but bootstrap.min.css set `[hidden] { display: none !important; }` so we also need the `!important` here to be able to override the default hidden behavior on the sphinx rendered scikit-learn.org. See: https://github.com/scikit-learn/scikit-learn/issues/21755 */display: inline-block !important;position: relative;}#sk-container-id-4 div.sk-text-repr-fallback {display: none;}</style><div id=\"sk-container-id-4\" class=\"sk-top-container\"><div class=\"sk-text-repr-fallback\"><pre>Pipeline(steps=[(&#x27;hot&#x27;, OneHotEncoder(sparse_output=False)),\n",
       "                (&#x27;linreg&#x27;, LinearRegression())],\n",
       "         verbose=True)</pre><b>In a Jupyter environment, please rerun this cell to show the HTML representation or trust the notebook. <br />On GitHub, the HTML representation is unable to render, please try loading this page with nbviewer.org.</b></div><div class=\"sk-container\" hidden><div class=\"sk-item sk-dashed-wrapped\"><div class=\"sk-label-container\"><div class=\"sk-label sk-toggleable\"><input class=\"sk-toggleable__control sk-hidden--visually\" id=\"sk-estimator-id-13\" type=\"checkbox\" ><label for=\"sk-estimator-id-13\" class=\"sk-toggleable__label sk-toggleable__label-arrow\">Pipeline</label><div class=\"sk-toggleable__content\"><pre>Pipeline(steps=[(&#x27;hot&#x27;, OneHotEncoder(sparse_output=False)),\n",
       "                (&#x27;linreg&#x27;, LinearRegression())],\n",
       "         verbose=True)</pre></div></div></div><div class=\"sk-serial\"><div class=\"sk-item\"><div class=\"sk-estimator sk-toggleable\"><input class=\"sk-toggleable__control sk-hidden--visually\" id=\"sk-estimator-id-14\" type=\"checkbox\" ><label for=\"sk-estimator-id-14\" class=\"sk-toggleable__label sk-toggleable__label-arrow\">OneHotEncoder</label><div class=\"sk-toggleable__content\"><pre>OneHotEncoder(sparse_output=False)</pre></div></div></div><div class=\"sk-item\"><div class=\"sk-estimator sk-toggleable\"><input class=\"sk-toggleable__control sk-hidden--visually\" id=\"sk-estimator-id-15\" type=\"checkbox\" ><label for=\"sk-estimator-id-15\" class=\"sk-toggleable__label sk-toggleable__label-arrow\">LinearRegression</label><div class=\"sk-toggleable__content\"><pre>LinearRegression()</pre></div></div></div></div></div></div></div>"
      ],
      "text/plain": [
       "Pipeline(steps=[('hot', OneHotEncoder(sparse_output=False)),\n",
       "                ('linreg', LinearRegression())],\n",
       "         verbose=True)"
      ]
     },
     "execution_count": 116,
     "metadata": {},
     "output_type": "execute_result"
    }
   ],
   "source": [
    "lin_pipe.fit(x_train,y_trainT)"
   ]
  },
  {
   "cell_type": "code",
   "execution_count": 117,
   "id": "addecbc3-cad3-405d-9ebf-9a98d750f048",
   "metadata": {},
   "outputs": [],
   "source": [
    "lin_score = lin_pipe.score(x_test, y_testT)"
   ]
  },
  {
   "cell_type": "code",
   "execution_count": 118,
   "id": "c3dd3523-137e-4417-8dbe-0292393ae851",
   "metadata": {},
   "outputs": [
    {
     "data": {
      "text/plain": [
       "0.40037320051853986"
      ]
     },
     "execution_count": 118,
     "metadata": {},
     "output_type": "execute_result"
    }
   ],
   "source": [
    "lin_score"
   ]
  },
  {
   "cell_type": "code",
   "execution_count": 119,
   "id": "af2e2a41-c423-471b-8775-830859e016b2",
   "metadata": {},
   "outputs": [
    {
     "data": {
      "text/plain": [
       "array([[ 3.26219501e+12,  3.26219501e+12,  3.26219501e+12,\n",
       "         3.26219501e+12,  2.56158667e+12,  2.56158667e+12,\n",
       "         2.56158667e+12,  2.56158667e+12,  7.11820439e+12,\n",
       "         7.11820439e+12,  7.11820439e+12,  7.11820439e+12,\n",
       "         7.11820439e+12,  7.11820439e+12,  7.11820439e+12,\n",
       "         7.11820439e+12,  7.11820439e+12,  7.11820439e+12,\n",
       "         2.42896530e+13,  2.42896530e+13,  2.42896530e+13,\n",
       "         2.42896530e+13,  2.42896530e+13,  2.42896530e+13,\n",
       "         2.42896530e+13, -4.87459492e+12, -4.87459492e+12,\n",
       "        -4.87459492e+12, -1.47220892e+13, -1.47220892e+13,\n",
       "        -1.47220892e+13, -1.47220892e+13, -1.47220892e+13,\n",
       "        -3.07870848e+12, -3.07870848e+12, -3.07870848e+12]])"
      ]
     },
     "execution_count": 119,
     "metadata": {},
     "output_type": "execute_result"
    }
   ],
   "source": [
    "lin_pipe.named_steps['linreg'].coef_"
   ]
  },
  {
   "cell_type": "code",
   "execution_count": 120,
   "id": "d8e80ce0-881b-4acb-93e4-a746ae897899",
   "metadata": {},
   "outputs": [],
   "source": [
    "lin_predictT = lin_pipe.predict(x_test)"
   ]
  },
  {
   "cell_type": "code",
   "execution_count": 121,
   "id": "5ed85005-a769-4c2f-8e56-048b40e009a4",
   "metadata": {},
   "outputs": [],
   "source": [
    "lin_predict =  std_y.inverse_transform(lin_predictT)"
   ]
  },
  {
   "cell_type": "code",
   "execution_count": 159,
   "id": "caae3202-38f3-4697-a96d-e0efb6f8534c",
   "metadata": {},
   "outputs": [
    {
     "name": "stdout",
     "output_type": "stream",
     "text": [
      "lin mae: 0.3160052940828897\n",
      "lin mse: 0.16018143260852102\n",
      "lin rmse: 0.40022672650451646\n",
      "lin r2 score: 0.40037320051854\n"
     ]
    }
   ],
   "source": [
    "print('lin mae: {}'.format(mean_absolute_error(y_test,lin_predict)))\n",
    "print('lin mse: {}'.format(mean_squared_error(y_test,lin_predict)))\n",
    "print('lin rmse: {}'.format(np.sqrt(mean_squared_error(y_test,lin_predict))))\n",
    "print('lin r2 score: {}'.format(r2_score(y_test,lin_predict)))"
   ]
  },
  {
   "cell_type": "code",
   "execution_count": 136,
   "id": "d078a03a-1038-449d-9a18-c9bbcbfc80c7",
   "metadata": {},
   "outputs": [],
   "source": [
    "temp = pd.DataFrame(y_test)\n",
    "temp['predict'] = lin_predict\n",
    "temp.sort_values('salary_in_usd', inplace=True)#.reset_index(drop=True)#.plot()\n",
    "temp = np.exp(temp)\n",
    "temp['diff'] = np.abs(np.diff(temp))"
   ]
  },
  {
   "cell_type": "code",
   "execution_count": 139,
   "id": "8c902cdb-ac50-4fb6-a0b1-a5f7cd5a963e",
   "metadata": {},
   "outputs": [
    {
     "data": {
      "text/html": [
       "<div>\n",
       "<style scoped>\n",
       "    .dataframe tbody tr th:only-of-type {\n",
       "        vertical-align: middle;\n",
       "    }\n",
       "\n",
       "    .dataframe tbody tr th {\n",
       "        vertical-align: top;\n",
       "    }\n",
       "\n",
       "    .dataframe thead th {\n",
       "        text-align: right;\n",
       "    }\n",
       "</style>\n",
       "<table border=\"1\" class=\"dataframe\">\n",
       "  <thead>\n",
       "    <tr style=\"text-align: right;\">\n",
       "      <th></th>\n",
       "      <th>salary_in_usd</th>\n",
       "      <th>predict</th>\n",
       "      <th>diff</th>\n",
       "    </tr>\n",
       "  </thead>\n",
       "  <tbody>\n",
       "    <tr>\n",
       "      <th>8392</th>\n",
       "      <td>15809.0</td>\n",
       "      <td>50646.286123</td>\n",
       "      <td>34837.286123</td>\n",
       "    </tr>\n",
       "    <tr>\n",
       "      <th>3876</th>\n",
       "      <td>16666.0</td>\n",
       "      <td>51653.421582</td>\n",
       "      <td>34987.421582</td>\n",
       "    </tr>\n",
       "    <tr>\n",
       "      <th>2621</th>\n",
       "      <td>17600.0</td>\n",
       "      <td>60884.121374</td>\n",
       "      <td>43284.121374</td>\n",
       "    </tr>\n",
       "  </tbody>\n",
       "</table>\n",
       "</div>"
      ],
      "text/plain": [
       "      salary_in_usd       predict          diff\n",
       "8392        15809.0  50646.286123  34837.286123\n",
       "3876        16666.0  51653.421582  34987.421582\n",
       "2621        17600.0  60884.121374  43284.121374"
      ]
     },
     "execution_count": 139,
     "metadata": {},
     "output_type": "execute_result"
    }
   ],
   "source": [
    "temp[:3]"
   ]
  },
  {
   "cell_type": "code",
   "execution_count": 161,
   "id": "e2420813-ab89-4b80-9485-679496168ab3",
   "metadata": {},
   "outputs": [
    {
     "name": "stdout",
     "output_type": "stream",
     "text": [
      "In real value\n",
      "lin mae: 46093.149790216\n",
      "lin mse: 4674238282.623125\n",
      "lin rmse: 68368.40119984615\n",
      "lin r2 score: 0.22073208083405838\n"
     ]
    }
   ],
   "source": [
    "print('In real value')\n",
    "print('lin mae: {}'.format(mean_absolute_error(temp.salary_in_usd,temp.predict)))\n",
    "print('lin mse: {}'.format(mean_squared_error(temp.salary_in_usd,temp.predict)))\n",
    "print('lin rmse: {}'.format(np.sqrt(mean_squared_error(temp.salary_in_usd,temp.predict))))\n",
    "print('lin r2 score: {}'.format(r2_score(temp.salary_in_usd,temp.predict)))"
   ]
  },
  {
   "cell_type": "code",
   "execution_count": 162,
   "id": "a67700f0-67b2-4a73-b76f-6728b0846114",
   "metadata": {},
   "outputs": [
    {
     "data": {
      "text/plain": [
       "<Axes: >"
      ]
     },
     "execution_count": 162,
     "metadata": {},
     "output_type": "execute_result"
    },
    {
     "data": {
      "image/png": "[encoded data removed]",
      "text/plain": [
       "<Figure size 640x480 with 1 Axes>"
      ]
     },
     "metadata": {},
     "output_type": "display_data"
    }
   ],
   "source": [
    "temp.reset_index(drop=True).plot()"
   ]
  },
  {
   "cell_type": "markdown",
   "id": "9f8df79a-0963-4e01-841b-384e0ee3ad27",
   "metadata": {},
   "source": [
    "<span id='xgb'></span>\n",
    "### XGBoost regression with transformed and scaled target"
   ]
  },
  {
   "cell_type": "code",
   "execution_count": 146,
   "id": "0b7d0427-e511-4243-915e-540e30b95cb4",
   "metadata": {},
   "outputs": [],
   "source": [
    "from sklearn.preprocessing import LabelEncoder\n",
    "from sklearn.ensemble import RandomForestRegressor\n",
    "from xgboost import XGBRegressor"
   ]
  },
  {
   "cell_type": "code",
   "execution_count": 148,
   "id": "ac2f6cbc-af94-4602-95e6-8a13fec723c3",
   "metadata": {},
   "outputs": [],
   "source": [
    "xgb_pipe = Pipeline([('hot', OneHotEncoder(sparse_output=False)),\n",
    "                   #('pca', PCA()),\n",
    "                     ('linreg', XGBRegressor())], verbose=True) "
   ]
  },
  {
   "cell_type": "code",
   "execution_count": 149,
   "id": "40aa45c1-bc31-48e2-b8bf-2cbdb1721f05",
   "metadata": {},
   "outputs": [
    {
     "name": "stdout",
     "output_type": "stream",
     "text": [
      "[Pipeline] ............... (step 1 of 2) Processing hot, total=   0.0s\n",
      "[Pipeline] ............ (step 2 of 2) Processing linreg, total=   0.5s\n",
      "xgboost score: 0.382834676622377\n"
     ]
    }
   ],
   "source": [
    "xgb_pipe.fit(x_train,y_trainT)\n",
    "print('xgboost score: {}'.format(xgb_pipe.score(x_test,y_testT)))"
   ]
  },
  {
   "cell_type": "code",
   "execution_count": 150,
   "id": "ba14ccfe-21cc-4b11-b5e5-562a3515d678",
   "metadata": {},
   "outputs": [
    {
     "name": "stdout",
     "output_type": "stream",
     "text": [
      "xgb mae: 0.32134336360060944\n",
      "xgb mse: 0.16486657693638135\n",
      "xgb rmse: 0.40603765457945074\n",
      "xgb r2 score: 0.38283472522415574\n"
     ]
    }
   ],
   "source": [
    "xgb_predT = xgb_pipe.predict(x_test)\n",
    "xgb_pred = std_y.inverse_transform(xgb_predT.reshape(-1,1))\n",
    "print('xgb mae: {}'.format(mean_absolute_error(y_test,xgb_pred)))\n",
    "print('xgb mse: {}'.format(mean_squared_error(y_test,xgb_pred)))\n",
    "print('xgb rmse: {}'.format(np.sqrt(mean_squared_error(y_test,xgb_pred))))\n",
    "print('xgb r2 score: {}'.format(r2_score(y_test,xgb_pred)))"
   ]
  },
  {
   "cell_type": "code",
   "execution_count": 163,
   "id": "bd1ea40f-e823-443e-9d21-74c92dded19d",
   "metadata": {},
   "outputs": [],
   "source": [
    "tempx = pd.DataFrame(y_test)\n",
    "tempx['predict'] = xgb_pred\n",
    "tempx.sort_values('salary_in_usd', inplace=True)#.reset_index(drop=True)#.plot()\n",
    "tempx = np.exp(tempx)\n",
    "tempx['diff'] = np.abs(np.diff(tempx))"
   ]
  },
  {
   "cell_type": "code",
   "execution_count": 166,
   "id": "00046977-f5d1-4385-aedf-55abe5e926a2",
   "metadata": {},
   "outputs": [
    {
     "name": "stdout",
     "output_type": "stream",
     "text": [
      "In real value\n",
      "xgb mae: 46524.38128321639\n",
      "xgb mse: 4679282181.135365\n",
      "xgb rmse: 68405.27889816227\n",
      "xgb r2 score: 0.2198911848290923\n"
     ]
    }
   ],
   "source": [
    "print('In real value')\n",
    "print('xgb mae: {}'.format(mean_absolute_error(tempx.salary_in_usd,tempx.predict)))\n",
    "print('xgb mse: {}'.format(mean_squared_error(tempx.salary_in_usd,tempx.predict)))\n",
    "print('xgb rmse: {}'.format(np.sqrt(mean_squared_error(tempx.salary_in_usd,tempx.predict))))\n",
    "print('xgb r2 score: {}'.format(r2_score(tempx.salary_in_usd,tempx.predict)))"
   ]
  },
  {
   "cell_type": "code",
   "execution_count": null,
   "id": "64e057dc-324d-4448-a932-fd42879e28b9",
   "metadata": {},
   "outputs": [],
   "source": []
  },
  {
   "cell_type": "raw",
   "id": "63e355e6-8aae-4ec1-a7e7-f28867b0b5fa",
   "metadata": {},
   "source": []
  },
  {
   "cell_type": "markdown",
   "id": "046b4693-0980-4a46-8504-bf75c9568723",
   "metadata": {},
   "source": [
    "<span id='std'></span>\n",
    "### Linear regression, target only standard scaled, no transformation"
   ]
  },
  {
   "cell_type": "code",
   "execution_count": 6,
   "id": "c21b86c6-4907-4410-be89-d48d0c4623c7",
   "metadata": {},
   "outputs": [
    {
     "data": {
      "text/html": [
       "<div>\n",
       "<style scoped>\n",
       "    .dataframe tbody tr th:only-of-type {\n",
       "        vertical-align: middle;\n",
       "    }\n",
       "\n",
       "    .dataframe tbody tr th {\n",
       "        vertical-align: top;\n",
       "    }\n",
       "\n",
       "    .dataframe thead th {\n",
       "        text-align: right;\n",
       "    }\n",
       "</style>\n",
       "<table border=\"1\" class=\"dataframe\">\n",
       "  <thead>\n",
       "    <tr style=\"text-align: right;\">\n",
       "      <th></th>\n",
       "      <th>experience_level</th>\n",
       "      <th>employment_type</th>\n",
       "      <th>job_title</th>\n",
       "      <th>employee_residence</th>\n",
       "      <th>remote_ratio</th>\n",
       "      <th>company_location</th>\n",
       "      <th>company_size</th>\n",
       "    </tr>\n",
       "  </thead>\n",
       "  <tbody>\n",
       "    <tr>\n",
       "      <th>0</th>\n",
       "      <td>MI</td>\n",
       "      <td>FT</td>\n",
       "      <td>9</td>\n",
       "      <td>3</td>\n",
       "      <td>0</td>\n",
       "      <td>0</td>\n",
       "      <td>S</td>\n",
       "    </tr>\n",
       "    <tr>\n",
       "      <th>1</th>\n",
       "      <td>MI</td>\n",
       "      <td>FT</td>\n",
       "      <td>9</td>\n",
       "      <td>3</td>\n",
       "      <td>0</td>\n",
       "      <td>0</td>\n",
       "      <td>S</td>\n",
       "    </tr>\n",
       "    <tr>\n",
       "      <th>2</th>\n",
       "      <td>MI</td>\n",
       "      <td>CT</td>\n",
       "      <td>9</td>\n",
       "      <td>1</td>\n",
       "      <td>0</td>\n",
       "      <td>4</td>\n",
       "      <td>M</td>\n",
       "    </tr>\n",
       "  </tbody>\n",
       "</table>\n",
       "</div>"
      ],
      "text/plain": [
       "  experience_level employment_type job_title employee_residence remote_ratio  \\\n",
       "0               MI              FT         9                  3            0   \n",
       "1               MI              FT         9                  3            0   \n",
       "2               MI              CT         9                  1            0   \n",
       "\n",
       "  company_location company_size  \n",
       "0                0            S  \n",
       "1                0            S  \n",
       "2                4            M  "
      ]
     },
     "execution_count": 6,
     "metadata": {},
     "output_type": "execute_result"
    }
   ],
   "source": [
    "x[:3]"
   ]
  },
  {
   "cell_type": "code",
   "execution_count": 8,
   "id": "e1067bf1-986f-4131-a951-8dcba9479465",
   "metadata": {},
   "outputs": [],
   "source": [
    "y = pd.read_csv('salary_clean.csv', usecols=['salary_in_usd'])"
   ]
  },
  {
   "cell_type": "code",
   "execution_count": 14,
   "id": "a25c1376-c877-4f80-843d-b75f75a3853b",
   "metadata": {},
   "outputs": [],
   "source": [
    "y = y.iloc[x.index, :]"
   ]
  },
  {
   "cell_type": "code",
   "execution_count": 17,
   "id": "56a4c8b1-d4ac-47e3-9b2c-1159d2972b3d",
   "metadata": {},
   "outputs": [],
   "source": [
    "std_y2 = StandardScaler()"
   ]
  },
  {
   "cell_type": "code",
   "execution_count": 15,
   "id": "a663ff81-92c1-42ee-a178-9075fdd1373b",
   "metadata": {},
   "outputs": [
    {
     "data": {
      "text/plain": [
       "((6860, 7), (6860, 1), (1470, 7), (1471, 7))"
      ]
     },
     "execution_count": 15,
     "metadata": {},
     "output_type": "execute_result"
    }
   ],
   "source": [
    "x_train, x_test, y_train, y_test = train_test_split(x,y, test_size=.3, stratify=x.experience_level, random_state=42)\n",
    "x_test, x_val, y_test, y_val = train_test_split(x_test,y_test, test_size=.5, stratify=x_test.experience_level, random_state=69)\n",
    "x_train.shape,y_train.shape,x_test.shape,x_val.shape"
   ]
  },
  {
   "cell_type": "code",
   "execution_count": 25,
   "id": "e46c661a-99ce-41b1-a106-9b3025ba5ac7",
   "metadata": {},
   "outputs": [],
   "source": [
    "std_y2 = std_y2.fit(np.array(y_train).reshape(-1,1))\n",
    "y_trainT = std_y2.transform(np.array(y_train).reshape(-1,1))\n",
    "y_testT = std_y2.transform(np.array(y_test).reshape(-1,1))\n",
    "y_valT = std_y2.transform(np.array(y_val).reshape(-1,1))"
   ]
  },
  {
   "cell_type": "code",
   "execution_count": 26,
   "id": "54de09ef-c394-43be-85b9-788c5dcd676e",
   "metadata": {},
   "outputs": [
    {
     "name": "stdout",
     "output_type": "stream",
     "text": [
      "[Pipeline] ............... (step 1 of 2) Processing hot, total=   0.0s\n",
      "[Pipeline] ............ (step 2 of 2) Processing linreg, total=   0.0s\n",
      "score: 0.08047130413087245\n",
      "Liner regression with no log transformation\n",
      "mae: 53759.487560914444\n",
      "mse: 5579031523.646754\n",
      "rmse: 74692.91481557507\n",
      "xgb r2 score: 0.08047130413087245\n"
     ]
    }
   ],
   "source": [
    "lin_pipe2 = Pipeline([('hot', OneHotEncoder(sparse_output=False)),\n",
    "                   #('pca', PCA()),\n",
    "                   ('linreg', LinearRegression())], verbose=True) \n",
    "lin_pipe2.fit(x_train, y_trainT)\n",
    "print('score:', lin_pipe2.score(x_test, y_testT))\n",
    "predS = lin_pipe2.predict(x_test)\n",
    "pred = std_y2.inverse_transform(predS)\n",
    "\n",
    "templ = pd.DataFrame(y_test)\n",
    "templ['predict'] = pred\n",
    "templ.sort_values('salary_in_usd', inplace=True)#.reset_index(drop=True)#.plot()\n",
    "templ['diff'] = np.abs(np.diff(templ))\n",
    "\n",
    "print('Liner regression with no log transformation')\n",
    "print('mae: {}'.format(mean_absolute_error(templ.salary_in_usd,templ.predict)))\n",
    "print('mse: {}'.format(mean_squared_error(templ.salary_in_usd,templ.predict)))\n",
    "print('rmse: {}'.format(np.sqrt(mean_squared_error(templ.salary_in_usd,templ.predict))))\n",
    "print('r2 score: {}'.format(r2_score(templ.salary_in_usd,templ.predict)))"
   ]
  },
  {
   "cell_type": "code",
   "execution_count": 27,
   "id": "5f6e3e4c-b5c1-4142-8e2e-b987781d599f",
   "metadata": {},
   "outputs": [
    {
     "data": {
      "text/plain": [
       "<Axes: >"
      ]
     },
     "execution_count": 27,
     "metadata": {},
     "output_type": "execute_result"
    },
    {
     "data": {
      "image/png": "[encoded data removed]",
      "text/plain": [
       "<Figure size 640x480 with 1 Axes>"
      ]
     },
     "metadata": {},
     "output_type": "display_data"
    }
   ],
   "source": [
    "templ.reset_index(drop=True).plot()"
   ]
  },
  {
   "cell_type": "markdown",
   "id": "0059a78f-548e-47d2-a8e7-32e89f8b3a5e",
   "metadata": {},
   "source": [
    "<span id='rob'></span>\n",
    "### Linear regression with RobustScaler on untransformed data"
   ]
  },
  {
   "cell_type": "code",
   "execution_count": null,
   "id": "a23e1722-8610-48e4-95f5-be6380e339ec",
   "metadata": {},
   "outputs": [],
   "source": [
    "y = pd.read_csv('salary_clean.csv', usecols=['salary_in_usd'])\n",
    "y = y.iloc[x.index, :]"
   ]
  },
  {
   "cell_type": "code",
   "execution_count": 29,
   "id": "99afa3a8-da6f-4fc7-a662-37f1b5c716f3",
   "metadata": {},
   "outputs": [
    {
     "name": "stdout",
     "output_type": "stream",
     "text": [
      "(6860, 7) (6860, 1) (1470, 7) (1471, 7)\n",
      "[Pipeline] ............... (step 1 of 2) Processing hot, total=   0.0s\n",
      "[Pipeline] ............ (step 2 of 2) Processing linreg, total=   0.0s\n",
      "score: 0.08012712606551475\n",
      "Liner regression with no log transformation with Robustscaler\n",
      "mae: 53744.66771597311\n",
      "mse: 5581119745.890392\n",
      "rmse: 74706.8922248168\n",
      "r2 score: 0.08012712606551486\n"
     ]
    }
   ],
   "source": [
    "x_train, x_test, y_train, y_test = train_test_split(x,y, test_size=.3, stratify=x.experience_level, random_state=42)\n",
    "x_test, x_val, y_test, y_val = train_test_split(x_test,y_test, test_size=.5, stratify=x_test.experience_level, random_state=69)\n",
    "print(x_train.shape,y_train.shape,x_test.shape,x_val.shape)\n",
    "\n",
    "#=======\n",
    "std_y2 = RobustScaler()\n",
    "std_y2 = std_y2.fit(np.array(y_train).reshape(-1,1))\n",
    "y_trainT = std_y2.transform(np.array(y_train).reshape(-1,1))\n",
    "y_testT = std_y2.transform(np.array(y_test).reshape(-1,1))\n",
    "y_valT = std_y2.transform(np.array(y_val).reshape(-1,1))\n",
    "#======\n",
    "lin_pipe2 = Pipeline([('hot', OneHotEncoder(sparse_output=False)),\n",
    "                   #('pca', PCA()),\n",
    "                   ('linreg', LinearRegression())], verbose=True) \n",
    "lin_pipe2.fit(x_train, y_trainT)\n",
    "print('score:', lin_pipe2.score(x_test, y_testT))\n",
    "predS = lin_pipe2.predict(x_test)\n",
    "pred = std_y2.inverse_transform(predS)\n",
    "\n",
    "templ = pd.DataFrame(y_test)\n",
    "templ['predict'] = pred\n",
    "templ.sort_values('salary_in_usd', inplace=True)#.reset_index(drop=True)#.plot()\n",
    "templ['diff'] = np.abs(np.diff(templ))\n",
    "\n",
    "print('Liner regression with no log transformation with Robustscaler')\n",
    "print('mae: {}'.format(mean_absolute_error(templ.salary_in_usd,templ.predict)))\n",
    "print('mse: {}'.format(mean_squared_error(templ.salary_in_usd,templ.predict)))\n",
    "print('rmse: {}'.format(np.sqrt(mean_squared_error(templ.salary_in_usd,templ.predict))))\n",
    "print('r2 score: {}'.format(r2_score(templ.salary_in_usd,templ.predict)))"
   ]
  },
  {
   "cell_type": "code",
   "execution_count": null,
   "id": "f8f99bd8-0f8e-4ae9-8618-208e9d138431",
   "metadata": {},
   "outputs": [],
   "source": []
  },
  {
   "cell_type": "markdown",
   "id": "42911958-7df5-474e-8aa6-bbc9cffd45df",
   "metadata": {},
   "source": [
    "<span id='rand'></span>\n",
    "### Random forest wih log transformed and scaled target\n"
   ]
  },
  {
   "cell_type": "code",
   "execution_count": 6,
   "id": "5ef2f25c-493e-425c-8914-78af6503cdb3",
   "metadata": {},
   "outputs": [],
   "source": [
    "from sklearn.ensemble import RandomForestRegressor"
   ]
  },
  {
   "cell_type": "code",
   "execution_count": 11,
   "id": "9736e590-3f7e-4fb8-9441-e31669ec403b",
   "metadata": {},
   "outputs": [
    {
     "data": {
      "text/plain": [
       "experience_level      MI\n",
       "employment_type       FT\n",
       "job_title              9\n",
       "employee_residence     3\n",
       "remote_ratio           0\n",
       "company_location       0\n",
       "company_size           S\n",
       "Name: 0, dtype: object"
      ]
     },
     "metadata": {},
     "output_type": "display_data"
    },
    {
     "data": {
      "text/plain": [
       "11.695247021764184"
      ]
     },
     "metadata": {},
     "output_type": "display_data"
    }
   ],
   "source": [
    "display(x.iloc[0, :],  y[0])\n"
   ]
  },
  {
   "cell_type": "code",
   "execution_count": 15,
   "id": "a5a5d2f6-7689-4ca7-b218-3a23dba49b51",
   "metadata": {},
   "outputs": [
    {
     "name": "stdout",
     "output_type": "stream",
     "text": [
      "(6860, 7) (6860,) (1470, 7) (1471, 7)\n",
      "[Pipeline] ............... (step 1 of 2) Processing hot, total=   0.0s\n"
     ]
    },
    {
     "name": "stderr",
     "output_type": "stream",
     "text": [
      "/opt/conda/envs/anaconda-ai-2024.04-py310/lib/python3.10/site-packages/sklearn/base.py:1151: DataConversionWarning: A column-vector y was passed when a 1d array was expected. Please change the shape of y to (n_samples,), for example using ravel().\n",
      "  return fit_method(estimator, *args, **kwargs)\n"
     ]
    },
    {
     "name": "stdout",
     "output_type": "stream",
     "text": [
      "[Pipeline] ............... (step 2 of 2) Processing reg, total=   0.7s\n",
      "Random forest regression with log transformation and standard scaler. Real values\n",
      "mae: 46388.31448360669\n",
      "mse: 4676556847.481236\n",
      "rmse: 68385.35550453208\n",
      "r2 score: 0.22034554016086483\n"
     ]
    }
   ],
   "source": [
    "x_train, x_test, y_train, y_test = train_test_split(x,y, test_size=.3, stratify=x.experience_level, random_state=42)\n",
    "x_test, x_val, y_test, y_val = train_test_split(x_test,y_test, test_size=.5, stratify=x_test.experience_level, random_state=69)\n",
    "print(x_train.shape,y_train.shape,x_test.shape,x_val.shape)\n",
    "\n",
    "#=======\n",
    "std_y2 = StandardScaler()\n",
    "std_y2 = std_y2.fit(np.array(y_train).reshape(-1,1))\n",
    "y_trainT = std_y2.transform(np.array(y_train).reshape(-1,1))\n",
    "y_testT = std_y2.transform(np.array(y_test).reshape(-1,1))\n",
    "y_valT = std_y2.transform(np.array(y_val).reshape(-1,1))\n",
    "#======\n",
    "ran_pipe = Pipeline([('hot', OneHotEncoder(sparse_output=False)),\n",
    "                   #('pca', PCA()),\n",
    "                   ('reg', RandomForestRegressor())], verbose=True) \n",
    "ran_pipe.fit(x_train, y_trainT)\n",
    "predT = ran_pipe.predict(x_test)\n",
    "pred = std_y2.inverse_transform(predT.reshape(-1,1))\n",
    "\n",
    "temp = pd.DataFrame(y_test)\n",
    "temp['predict'] = pred\n",
    "temp = np.exp(temp)\n",
    "temp.sort_values('salary_in_usd', inplace=True)#.reset_index(drop=True)#.plot()\n",
    "temp['diff'] = np.abs(np.diff(temp))\n",
    "\n",
    "print('Random forest regression with log transformation and standard scaler. Real values')\n",
    "print('mae: {}'.format(mean_absolute_error(temp.salary_in_usd,temp.predict)))\n",
    "print('mse: {}'.format(mean_squared_error(temp.salary_in_usd,temp.predict)))\n",
    "print('rmse: {}'.format(np.sqrt(mean_squared_error(temp.salary_in_usd,temp.predict))))\n",
    "print('r2 score: {}'.format(r2_score(temp.salary_in_usd,temp.predict)))"
   ]
  },
  {
   "cell_type": "code",
   "execution_count": 17,
   "id": "e1edf264-5b1a-4e88-9b1c-786f1488c205",
   "metadata": {},
   "outputs": [
    {
     "data": {
      "text/plain": [
       "<Axes: >"
      ]
     },
     "execution_count": 17,
     "metadata": {},
     "output_type": "execute_result"
    },
    {
     "data": {
      "image/png": "[encoded data removed]",
      "text/plain": [
       "<Figure size 640x480 with 1 Axes>"
      ]
     },
     "metadata": {},
     "output_type": "display_data"
    }
   ],
   "source": [
    "temp.sort_values('salary_in_usd').reset_index(drop=True).plot()"
   ]
  },
  {
   "cell_type": "markdown",
   "id": "285315b8-b7d6-4e10-ba80-d4b2dd0226a4",
   "metadata": {},
   "source": []
  },
  {
   "cell_type": "code",
   "execution_count": null,
   "id": "fe7c987b-554a-4d10-ae26-22153886b4ae",
   "metadata": {},
   "outputs": [],
   "source": []
  },
  {
   "cell_type": "code",
   "execution_count": null,
   "id": "5c339830-ab58-46b7-8b63-61f6df130a9e",
   "metadata": {},
   "outputs": [],
   "source": []
  },
  {
   "cell_type": "code",
   "execution_count": null,
   "id": "0350a983-fc33-4a47-9b0d-6209c9956fdf",
   "metadata": {},
   "outputs": [],
   "source": []
  },
  {
   "cell_type": "code",
   "execution_count": null,
   "id": "305ab79b-7d9f-42f8-8492-eb456c7b3890",
   "metadata": {},
   "outputs": [],
   "source": []
  },
  {
   "cell_type": "code",
   "execution_count": null,
   "id": "e7ac735f-2d28-40c8-9cce-54bfbdeb5533",
   "metadata": {},
   "outputs": [],
   "source": []
  },
  {
   "cell_type": "code",
   "execution_count": null,
   "id": "21bd4367-598e-4015-80a6-9260bcf4d322",
   "metadata": {},
   "outputs": [],
   "source": []
  },
  {
   "cell_type": "code",
   "execution_count": null,
   "id": "275082b2-1344-4bb6-b953-5b9cd5a7d399",
   "metadata": {},
   "outputs": [],
   "source": []
  },
  {
   "cell_type": "code",
   "execution_count": null,
   "id": "15a74c6c-faed-4836-9696-f8d91273bee4",
   "metadata": {},
   "outputs": [],
   "source": []
  },
  {
   "cell_type": "code",
   "execution_count": null,
   "id": "2061994e-f0c1-4d72-8425-835d72d97da2",
   "metadata": {},
   "outputs": [],
   "source": []
  },
  {
   "cell_type": "code",
   "execution_count": null,
   "id": "1f71585c-db19-412b-9cee-d2918c63b20e",
   "metadata": {},
   "outputs": [],
   "source": []
  },
  {
   "cell_type": "code",
   "execution_count": null,
   "id": "3ec34173-f3fd-4965-86e3-ab3767a8df83",
   "metadata": {},
   "outputs": [],
   "source": []
  }
 ],
 "metadata": {
  "kernelspec": {
   "display_name": "anaconda-ai-2024.04-py310",
   "language": "python",
   "name": "conda-env-anaconda-ai-2024.04-py310-py"
  },
  "language_info": {
   "codemirror_mode": {
    "name": "ipython",
    "version": 3
   },
   "file_extension": ".py",
   "mimetype": "text/x-python",
   "name": "python",
   "nbconvert_exporter": "python",
   "pygments_lexer": "ipython3",
   "version": "3.10.13"
  }
 },
 "nbformat": 4,
 "nbformat_minor": 5
}
